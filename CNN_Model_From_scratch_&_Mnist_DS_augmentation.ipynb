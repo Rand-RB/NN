{
  "nbformat": 4,
  "nbformat_minor": 0,
  "metadata": {
    "colab": {
      "provenance": [],
      "gpuType": "T4"
    },
    "kernelspec": {
      "name": "python3",
      "display_name": "Python 3"
    },
    "language_info": {
      "name": "python"
    },
    "accelerator": "GPU",
    "gpuClass": "standard"
  },
  "cells": [
    {
      "cell_type": "markdown",
      "source": [
        "# Question on CNNs\n",
        "\n",
        "1.\tWrite the data-loader\n",
        "2.\tUse data augmentation techniques to increase the size of the training set.\n",
        "3.\tTrain the CNN model (implementing early stopping to prevent overfitting is better)\n",
        "4.  Plot loss values\n",
        "5.  Show a few samples of the train and test set\n",
        "6.\tEvaluate the model on the test set and report the accuracy and loss.\n",
        "7.  provide the labels of the test_set in a file labelled Submission.csv. Submission.cvs should have a column called labels which should contain the labels of all the images"
      ],
      "metadata": {
        "id": "6VTPpUmNhoy7"
      }
    },
    {
      "cell_type": "code",
      "source": [
        "#idx2numpy will be used to read the data \n",
        "!pip install idx2numpy"
      ],
      "metadata": {
        "colab": {
          "base_uri": "https://localhost:8080/"
        },
        "id": "Tduhkt0O1xVK",
        "outputId": "a569619f-ad42-4302-f941-eff3b3347257"
      },
      "execution_count": null,
      "outputs": [
        {
          "output_type": "stream",
          "name": "stdout",
          "text": [
            "Looking in indexes: https://pypi.org/simple, https://us-python.pkg.dev/colab-wheels/public/simple/\n",
            "Requirement already satisfied: idx2numpy in /usr/local/lib/python3.10/dist-packages (1.2.3)\n",
            "Requirement already satisfied: numpy in /usr/local/lib/python3.10/dist-packages (from idx2numpy) (1.22.4)\n",
            "Requirement already satisfied: six in /usr/local/lib/python3.10/dist-packages (from idx2numpy) (1.16.0)\n"
          ]
        }
      ]
    },
    {
      "cell_type": "code",
      "source": [
        "!wget -O data.zip https://www.dropbox.com/s/by3l3l9xe4iiara/data%202.zip?dl=0"
      ],
      "metadata": {
        "colab": {
          "base_uri": "https://localhost:8080/"
        },
        "id": "2x9mUKivOurp",
        "outputId": "4918baa3-adb8-48cd-b16a-d04fb4a37efc"
      },
      "execution_count": null,
      "outputs": [
        {
          "output_type": "stream",
          "name": "stdout",
          "text": [
            "--2023-05-12 14:49:03--  https://www.dropbox.com/s/by3l3l9xe4iiara/data%202.zip?dl=0\n",
            "Resolving www.dropbox.com (www.dropbox.com)... 162.125.3.18, 2620:100:6018:18::a27d:312\n",
            "Connecting to www.dropbox.com (www.dropbox.com)|162.125.3.18|:443... connected.\n",
            "HTTP request sent, awaiting response... 302 Found\n",
            "Location: /s/raw/by3l3l9xe4iiara/data%202.zip [following]\n",
            "--2023-05-12 14:49:03--  https://www.dropbox.com/s/raw/by3l3l9xe4iiara/data%202.zip\n",
            "Reusing existing connection to www.dropbox.com:443.\n",
            "HTTP request sent, awaiting response... 302 Found\n",
            "Location: https://ucb0e2f36ecadb76b07673282a60.dl-eu.dropboxusercontent.com/cd/0/inline/B77lxOCULjJSZyc-H1qBOQ3WfcqspFdhSWES-fQYLET6WXAhWWKdvJnIKBd47cPupT6PuNGWDcPE2rrWBy7nwFYGSXuvltSZC_PZaMwKi01-mp-lqatvlA-ob-iZGTBXKYEfMkL6NhkAGFslp9huq4Rki4Sp4JhqsPIqHVCnM8TWqQ/file# [following]\n",
            "--2023-05-12 14:49:03--  https://ucb0e2f36ecadb76b07673282a60.dl-eu.dropboxusercontent.com/cd/0/inline/B77lxOCULjJSZyc-H1qBOQ3WfcqspFdhSWES-fQYLET6WXAhWWKdvJnIKBd47cPupT6PuNGWDcPE2rrWBy7nwFYGSXuvltSZC_PZaMwKi01-mp-lqatvlA-ob-iZGTBXKYEfMkL6NhkAGFslp9huq4Rki4Sp4JhqsPIqHVCnM8TWqQ/file\n",
            "Resolving ucb0e2f36ecadb76b07673282a60.dl-eu.dropboxusercontent.com (ucb0e2f36ecadb76b07673282a60.dl-eu.dropboxusercontent.com)... 162.125.3.15, 2620:100:6018:15::a27d:30f\n",
            "Connecting to ucb0e2f36ecadb76b07673282a60.dl-eu.dropboxusercontent.com (ucb0e2f36ecadb76b07673282a60.dl-eu.dropboxusercontent.com)|162.125.3.15|:443... connected.\n",
            "HTTP request sent, awaiting response... 302 Found\n",
            "Location: /cd/0/inline2/B767eAmYAOJqbbXk-V4Ukk3gTIZo4EF9undfnr5JraN9qzxtS79pF_GDdt3f3lLQyIXkHwnoa2BGhNfLlv5JJXm2Vz3qj2GvyrAPHY7tT_9jIk8QfblfzBPBsqIi7yYQTQ59Cc8Y4fi8PntEpVizzHSVyMVt3rTozvD5IygCAPsMru8NU4DRoQen_C-cyZWsRLgs9j5U7k1b8AplM0p2atzZBBJIZYuRnIC-mDyXc6aW9k3Wrj6MH3EC1YacoKi32xFWb8zWDsxsoAS6BxzdpbjcOlxThL7WgyC1wS6UtIVVQd5HPc1ugvYUsSbjs6xBzxDdswy5ibRJOpt1W7Ly-HeuFnRpSXea4tXa7XZCkodFmm4L3imszE7E6wMWMG6frdRRa5Mp3uRv72_R_BVAy4SP8ZXA484pLJejXw16ZLfutQ/file [following]\n",
            "--2023-05-12 14:49:04--  https://ucb0e2f36ecadb76b07673282a60.dl-eu.dropboxusercontent.com/cd/0/inline2/B767eAmYAOJqbbXk-V4Ukk3gTIZo4EF9undfnr5JraN9qzxtS79pF_GDdt3f3lLQyIXkHwnoa2BGhNfLlv5JJXm2Vz3qj2GvyrAPHY7tT_9jIk8QfblfzBPBsqIi7yYQTQ59Cc8Y4fi8PntEpVizzHSVyMVt3rTozvD5IygCAPsMru8NU4DRoQen_C-cyZWsRLgs9j5U7k1b8AplM0p2atzZBBJIZYuRnIC-mDyXc6aW9k3Wrj6MH3EC1YacoKi32xFWb8zWDsxsoAS6BxzdpbjcOlxThL7WgyC1wS6UtIVVQd5HPc1ugvYUsSbjs6xBzxDdswy5ibRJOpt1W7Ly-HeuFnRpSXea4tXa7XZCkodFmm4L3imszE7E6wMWMG6frdRRa5Mp3uRv72_R_BVAy4SP8ZXA484pLJejXw16ZLfutQ/file\n",
            "Reusing existing connection to ucb0e2f36ecadb76b07673282a60.dl-eu.dropboxusercontent.com:443.\n",
            "HTTP request sent, awaiting response... 200 OK\n",
            "Length: 21501053 (21M) [application/zip]\n",
            "Saving to: ‘data.zip’\n",
            "\n",
            "data.zip            100%[===================>]  20.50M  13.7MB/s    in 1.5s    \n",
            "\n",
            "2023-05-12 14:49:06 (13.7 MB/s) - ‘data.zip’ saved [21501053/21501053]\n",
            "\n"
          ]
        }
      ]
    },
    {
      "cell_type": "code",
      "source": [
        "import torch\n",
        "import torch.nn as nn\n",
        "import torch.nn.functional as F\n",
        "import torch.optim as optim\n",
        "import numpy as np\n",
        "import matplotlib.pyplot as plt\n",
        "from torch.utils.data import Dataset, DataLoader\n",
        "import imageio as Image\n",
        "from torchvision.datasets import MNIST\n",
        "\n",
        "%matplotlib inline"
      ],
      "metadata": {
        "id": "xnTQbpmAeiRz"
      },
      "execution_count": null,
      "outputs": []
    },
    {
      "cell_type": "code",
      "source": [
        "cd data"
      ],
      "metadata": {
        "colab": {
          "base_uri": "https://localhost:8080/"
        },
        "id": "yqu9i35FLPit",
        "outputId": "ffccf328-f4a0-4b7c-d590-0c09e88d1508"
      },
      "execution_count": null,
      "outputs": [
        {
          "output_type": "stream",
          "name": "stdout",
          "text": [
            "/content/data/data\n"
          ]
        }
      ]
    },
    {
      "cell_type": "code",
      "source": [
        "import os\n",
        "if os.path.exists(\"data/\"):\n",
        "  pass\n",
        "\n",
        "else:\n",
        "  !unzip data.zip"
      ],
      "metadata": {
        "id": "KNGIqNdZPLpr",
        "colab": {
          "base_uri": "https://localhost:8080/"
        },
        "outputId": "a7354cc9-1fd9-4537-d148-386442dba15d"
      },
      "execution_count": null,
      "outputs": [
        {
          "output_type": "stream",
          "name": "stdout",
          "text": [
            "unzip:  cannot find or open data.zip, data.zip.zip or data.zip.ZIP.\n"
          ]
        }
      ]
    },
    {
      "cell_type": "code",
      "source": [
        "!ls data/"
      ],
      "metadata": {
        "id": "ggvRSRoFY3IH",
        "outputId": "0f58662f-1fb4-41fc-afdd-faab895d4761",
        "colab": {
          "base_uri": "https://localhost:8080/"
        }
      },
      "execution_count": null,
      "outputs": [
        {
          "output_type": "stream",
          "name": "stdout",
          "text": [
            "ls: cannot access 'data/': No such file or directory\n"
          ]
        }
      ]
    },
    {
      "cell_type": "code",
      "source": [
        "import idx2numpy\n",
        "train_images = idx2numpy.convert_from_file('train-images-idx3')\n",
        "test_images = idx2numpy.convert_from_file('test-images-idx3')\n",
        "\n",
        "train_labels = idx2numpy.convert_from_file('train-labels-idx1')\n",
        "test_labels = idx2numpy.convert_from_file('test-labels-idx1')"
      ],
      "metadata": {
        "id": "0Z2QfUHi3Mli"
      },
      "execution_count": null,
      "outputs": []
    },
    {
      "cell_type": "code",
      "source": [
        "len(train_images)"
      ],
      "metadata": {
        "colab": {
          "base_uri": "https://localhost:8080/"
        },
        "id": "BeBO5tPBKWz0",
        "outputId": "757471a4-e133-4516-d880-007010306e82"
      },
      "execution_count": null,
      "outputs": [
        {
          "output_type": "execute_result",
          "data": {
            "text/plain": [
              "60000"
            ]
          },
          "metadata": {},
          "execution_count": 111
        }
      ]
    },
    {
      "cell_type": "code",
      "source": [
        "len(test_images)"
      ],
      "metadata": {
        "colab": {
          "base_uri": "https://localhost:8080/"
        },
        "id": "5lYukiMaKa5p",
        "outputId": "6db94d02-674d-4a4d-c78e-247049804312"
      },
      "execution_count": null,
      "outputs": [
        {
          "output_type": "execute_result",
          "data": {
            "text/plain": [
              "10000"
            ]
          },
          "metadata": {},
          "execution_count": 112
        }
      ]
    },
    {
      "cell_type": "markdown",
      "source": [
        "Write the data-loader"
      ],
      "metadata": {
        "id": "ob-2LPcLfzkz"
      }
    },
    {
      "cell_type": "code",
      "source": [
        "batch_sz=10\n",
        "\n",
        "train_loader = DataLoader(train_images, batch_size = batch_sz)\n",
        "test_loader = DataLoader(test_images, batch_size = batch_sz)"
      ],
      "metadata": {
        "id": "3mIRECZVd1rx"
      },
      "execution_count": null,
      "outputs": []
    },
    {
      "cell_type": "code",
      "source": [
        "plt.imshow(train_images[3])"
      ],
      "metadata": {
        "colab": {
          "base_uri": "https://localhost:8080/",
          "height": 447
        },
        "id": "yEOAiPzney1z",
        "outputId": "0848534b-00dd-4857-eac1-8d5be97a03c2"
      },
      "execution_count": null,
      "outputs": [
        {
          "output_type": "execute_result",
          "data": {
            "text/plain": [
              "<matplotlib.image.AxesImage at 0x7fef01dfbeb0>"
            ]
          },
          "metadata": {},
          "execution_count": 114
        },
        {
          "output_type": "display_data",
          "data": {
            "text/plain": [
              "<Figure size 640x480 with 1 Axes>"
            ],
            "image/png": "[encoded data removed]"
          },
          "metadata": {}
        }
      ]
    },
    {
      "cell_type": "code",
      "source": [
        "#!mkdir 'Train_images'"
      ],
      "metadata": {
        "id": "ey8pZWDHgquo"
      },
      "execution_count": null,
      "outputs": []
    },
    {
      "cell_type": "code",
      "source": [
        "print(train_loader)"
      ],
      "metadata": {
        "colab": {
          "base_uri": "https://localhost:8080/"
        },
        "id": "27eMVQP52i3e",
        "outputId": "aa8febbe-8ed5-4341-95ab-a68af53db138"
      },
      "execution_count": null,
      "outputs": [
        {
          "output_type": "stream",
          "name": "stdout",
          "text": [
            "<torch.utils.data.dataloader.DataLoader object at 0x7fef01dfab60>\n"
          ]
        }
      ]
    },
    {
      "cell_type": "code",
      "source": [
        "#---> t=[shift down,up,right,left] i will iterate through these values\n",
        "class Translate:\n",
        "  def __init__(self, t):\n",
        "    self.t = t\n",
        "\n",
        "  def __call__(self, im):\n",
        "    shp = im.size()\n",
        "    print(shp)\n",
        "    for i,v in enumerate(self.t):\n",
        "      print(i,v)\n",
        "      if v>0 and i==0:\n",
        "        pad = torch.zeros(shp[0], v, shp[2])\n",
        "        im = torch.cat((pad, im), 1)\n",
        "        im = im[:,:shp[1],:shp[2]]\n",
        "\n",
        "      if v>0 and i==1:\n",
        "        pad = torch.zeros(shp[0], v, shp[2])\n",
        "        im = torch.cat(( im, pad), 1)\n",
        "        im = im[:,v:,:shp[2]]\n",
        "\n",
        "      if v>0 and i==2:\n",
        "        pad = torch.zeros(shp[0], shp[1], v)\n",
        "        im = torch.cat((pad, im), 2)\n",
        "        im = im[:,:shp[1],:shp[2]]\n",
        "\n",
        "      if v>0 and i==3:\n",
        "        pad = torch.zeros(shp[0], shp[1], v)\n",
        "        im = torch.cat(( im, pad), 2)\n",
        "        im = im[:,:shp[1],v:]\n",
        "\n",
        "\n",
        "    im = im[:,:shp[1],:shp[2]]\n",
        "    return im\n"
      ],
      "metadata": {
        "id": "BPEThxYk4Zes"
      },
      "execution_count": null,
      "outputs": []
    },
    {
      "cell_type": "code",
      "source": [
        "from torchvision import transforms\n",
        "toTensor = transforms.ToTensor()\n",
        "\n",
        "class MyDataset(Dataset):\n",
        "  def __init__(self, transform=None):\n",
        "    super().__init__()\n",
        "    \n",
        "    self.image  = idx2numpy.convert_from_file('train-images-idx3')\n",
        "    self.labels = idx2numpy.convert_from_file('train-labels-idx1')\n",
        "    self.transform = transform\n",
        "\n",
        "\n",
        "  def __len__(self):\n",
        "    return len(self.labels)\n",
        "\n",
        "  def __getitem__(self, idx):\n",
        "    im = self.image[idx]\n",
        "    if self.transform:\n",
        "      im = self.transform(im)\n",
        "    label = self.labels[idx]\n",
        "    return (im, label)"
      ],
      "metadata": {
        "id": "q2k1fHob57gj"
      },
      "execution_count": null,
      "outputs": []
    },
    {
      "cell_type": "code",
      "source": [
        "transform_train = transforms.Compose([\n",
        "                        transforms.ToPILImage(),\n",
        "                        transforms.RandomCrop(28, padding=4),\n",
        "                        transforms.ToTensor(),\n",
        "                        \n",
        "                    ])\n",
        "transform_test = transforms.Compose([\n",
        "                        transforms.ToTensor(),])"
      ],
      "metadata": {
        "id": "5XuBgudA9CS8"
      },
      "execution_count": null,
      "outputs": []
    },
    {
      "cell_type": "code",
      "source": [
        "dataset = MyDataset(transform=toTensor)\n",
        "plt.imshow(dataset[1][0].permute((1,2,0)))\n",
        "plt.title(dataset[1][1])"
      ],
      "metadata": {
        "colab": {
          "base_uri": "https://localhost:8080/",
          "height": 469
        },
        "id": "6AwsmD24IS9r",
        "outputId": "d7c444ac-c44b-415b-dc28-471f24b17581"
      },
      "execution_count": null,
      "outputs": [
        {
          "output_type": "execute_result",
          "data": {
            "text/plain": [
              "Text(0.5, 1.0, '7')"
            ]
          },
          "metadata": {},
          "execution_count": 120
        },
        {
          "output_type": "display_data",
          "data": {
            "text/plain": [
              "<Figure size 640x480 with 1 Axes>"
            ],
            "image/png": "[encoded data removed]"
          },
          "metadata": {}
        }
      ]
    },
    {
      "cell_type": "markdown",
      "source": [
        "CNN Model "
      ],
      "metadata": {
        "id": "At1KWLq_Fnmv"
      }
    },
    {
      "cell_type": "code",
      "source": [
        "train_loader = DataLoader(dataset, batch_size = batch_sz)\n",
        "test_loader = DataLoader(dataset, batch_size = batch_sz)"
      ],
      "metadata": {
        "id": "zv3pctSbNdIp"
      },
      "execution_count": null,
      "outputs": []
    },
    {
      "cell_type": "code",
      "source": [
        "class My_CNN(nn.Module):\n",
        "  def __init__(self):\n",
        "    super().__init__()\n",
        "    self.conv1 = nn.Conv2d(1,10,3,1,1) \n",
        "    self.conv2 = nn.Conv2d(10,50,3,1,1) \n",
        "\n",
        "    self.linear1 = nn.Linear(50*7*7,100)\n",
        "    self.linear2 = nn.Linear(100,10)\n",
        "\n",
        "  def forward(self,x):\n",
        "    x = self.conv1(x)\n",
        "    x = torch.relu(x)\n",
        "    #x = torch.MaxPool2d(2,2)\n",
        "    x = F.max_pool2d(x,(2,2))\n",
        "    # x --->(10,16,16) \n",
        "\n",
        "    x = self.conv2(x)\n",
        "    x = torch.relu(x)\n",
        "    #x = torch.MaxPool2d(2,2)\n",
        "    x = F.max_pool2d(x,(2,2)) \n",
        "    ## x --->(50,8,8)\n",
        "    x = x.view(-1,50*7*7) \n",
        "    x = self.linear1(x)\n",
        "    x = self.linear2(x)\n",
        "\n",
        "    return x"
      ],
      "metadata": {
        "id": "EGl3p7td_qMQ"
      },
      "execution_count": null,
      "outputs": []
    },
    {
      "cell_type": "code",
      "source": [
        "device = torch.device(\"cuda:0\")\n",
        "network = My_CNN().to(device)\n",
        "lr = 1e-2\n",
        "mm = 0.5\n",
        "\n",
        "opt = optim.SGD(network.parameters(), lr = lr, momentum = mm)\n",
        "epoches = 10\n",
        "\n",
        "ls = []\n",
        "\n",
        "for i in range(epoches):\n",
        "  total_loss = 0\n",
        "  for batch in train_loader:\n",
        "    #print(batch[0])\n",
        "    X,y = batch[0].to(device), batch[1].to(device)\n",
        "    y_hat = network(X)\n",
        "    loss = F.cross_entropy(y_hat, y) #what is F?\n",
        "    opt.zero_grad() \n",
        "    loss.backward()\n",
        "    opt.step() \n",
        "    total_loss+=loss.item()\n",
        "\n",
        "  ls.append(total_loss/len(train_loader))\n",
        "plt.plot(ls)"
      ],
      "metadata": {
        "id": "3LQjOovtGqRj",
        "colab": {
          "base_uri": "https://localhost:8080/"
        },
        "outputId": "a16a36e9-d247-46e6-c95a-faa47cb6b301"
      },
      "execution_count": null,
      "outputs": [
        {
          "output_type": "execute_result",
          "data": {
            "text/plain": [
              "[<matplotlib.lines.Line2D at 0x7fef01f2bd00>]"
            ]
          },
          "metadata": {},
          "execution_count": 123
        },
        {
          "output_type": "display_data",
          "data": {
            "text/plain": [
              "<Figure size 640x480 with 1 Axes>"
            ],
            "image/png": "[encoded data removed]"
          },
          "metadata": {}
        }
      ]
    },
    {
      "cell_type": "code",
      "source": [
        "!pip install torchmetrics"
      ],
      "metadata": {
        "colab": {
          "base_uri": "https://localhost:8080/"
        },
        "id": "xdQiXdMzPtqo",
        "outputId": "3a9fea47-718e-4acf-f320-a342fe3c451b"
      },
      "execution_count": null,
      "outputs": [
        {
          "output_type": "stream",
          "name": "stdout",
          "text": [
            "Looking in indexes: https://pypi.org/simple, https://us-python.pkg.dev/colab-wheels/public/simple/\n",
            "Requirement already satisfied: torchmetrics in /usr/local/lib/python3.10/dist-packages (0.11.4)\n",
            "Requirement already satisfied: numpy>=1.17.2 in /usr/local/lib/python3.10/dist-packages (from torchmetrics) (1.22.4)\n",
            "Requirement already satisfied: torch>=1.8.1 in /usr/local/lib/python3.10/dist-packages (from torchmetrics) (2.0.0+cu118)\n",
            "Requirement already satisfied: packaging in /usr/local/lib/python3.10/dist-packages (from torchmetrics) (23.1)\n",
            "Requirement already satisfied: filelock in /usr/local/lib/python3.10/dist-packages (from torch>=1.8.1->torchmetrics) (3.12.0)\n",
            "Requirement already satisfied: typing-extensions in /usr/local/lib/python3.10/dist-packages (from torch>=1.8.1->torchmetrics) (4.5.0)\n",
            "Requirement already satisfied: sympy in /usr/local/lib/python3.10/dist-packages (from torch>=1.8.1->torchmetrics) (1.11.1)\n",
            "Requirement already satisfied: networkx in /usr/local/lib/python3.10/dist-packages (from torch>=1.8.1->torchmetrics) (3.1)\n",
            "Requirement already satisfied: jinja2 in /usr/local/lib/python3.10/dist-packages (from torch>=1.8.1->torchmetrics) (3.1.2)\n",
            "Requirement already satisfied: triton==2.0.0 in /usr/local/lib/python3.10/dist-packages (from torch>=1.8.1->torchmetrics) (2.0.0)\n",
            "Requirement already satisfied: cmake in /usr/local/lib/python3.10/dist-packages (from triton==2.0.0->torch>=1.8.1->torchmetrics) (3.25.2)\n",
            "Requirement already satisfied: lit in /usr/local/lib/python3.10/dist-packages (from triton==2.0.0->torch>=1.8.1->torchmetrics) (16.0.3)\n",
            "Requirement already satisfied: MarkupSafe>=2.0 in /usr/local/lib/python3.10/dist-packages (from jinja2->torch>=1.8.1->torchmetrics) (2.1.2)\n",
            "Requirement already satisfied: mpmath>=0.19 in /usr/local/lib/python3.10/dist-packages (from sympy->torch>=1.8.1->torchmetrics) (1.3.0)\n"
          ]
        }
      ]
    },
    {
      "cell_type": "code",
      "source": [
        "#Evaluate the model on the testing dataset\n",
        "from torchmetrics import Accuracy\n",
        "accuracy = Accuracy(task=\"multiclass\", num_classes=10).to(device)\n",
        "\n",
        "acc = []\n",
        "testing_labels = []\n",
        "#true_testing_labels = []\n",
        "with torch.no_grad(): \n",
        "  correct = 0\n",
        "  total = 0\n",
        "\n",
        "for batch in test_loader:\n",
        "  X,y = batch[0].to(device),batch[1].to(device)\n",
        "  yhat = network(X)\n",
        "  #testing_labels.append(yhat)\n",
        "  #true_testing_labels.append(y)\n",
        "  labels = torch.argmax(yhat, dim=1)\n",
        "  correct+=torch.sum(y==labels)\n",
        "  total+=y.shape[0]\n",
        "  #print(y)\n",
        "  accur = accuracy(labels, y)\n",
        "  acc.append(accur)\n",
        "  labels = labels.cpu()\n",
        "\n",
        "print(f\"Accuracy is {correct/total}\")"
      ],
      "metadata": {
        "colab": {
          "base_uri": "https://localhost:8080/"
        },
        "id": "yA7I2MwxOUwd",
        "outputId": "7c6f30b9-4037-4c8f-d7cb-fc70f6cc7839"
      },
      "execution_count": null,
      "outputs": [
        {
          "output_type": "stream",
          "name": "stdout",
          "text": [
            "Accuracy is 0.9826833605766296\n"
          ]
        }
      ]
    },
    {
      "cell_type": "code",
      "source": [
        "#plot the dataset from training dataset\n",
        "plt.imshow(dataset[3][0].permute((1,2,0)))\n",
        "plt.title(dataset[3][1])"
      ],
      "metadata": {
        "colab": {
          "base_uri": "https://localhost:8080/"
        },
        "id": "gL7VcShfQe3E",
        "outputId": "c5e69adb-bffe-4c4b-ae70-7cfa3c1d4142"
      },
      "execution_count": null,
      "outputs": [
        {
          "output_type": "execute_result",
          "data": {
            "text/plain": [
              "Text(0.5, 1.0, '1')"
            ]
          },
          "metadata": {},
          "execution_count": 126
        },
        {
          "output_type": "display_data",
          "data": {
            "text/plain": [
              "<Figure size 640x480 with 1 Axes>"
            ],
            "image/png": "[encoded data removed]"
          },
          "metadata": {}
        }
      ]
    },
    {
      "cell_type": "code",
      "source": [
        "#testing dataset\n",
        "class MyDataset2(Dataset):\n",
        "  def __init__(self, transform=None):\n",
        "    super().__init__()\n",
        "    \n",
        "    self.image  = idx2numpy.convert_from_file('test-images-idx3')\n",
        "    self.labels = idx2numpy.convert_from_file('test-labels-idx1')\n",
        "    self.transform = transform\n",
        "\n",
        "\n",
        "  def __len__(self):\n",
        "    return len(self.labels)\n",
        "\n",
        "  def __getitem__(self, idx):\n",
        "    im = self.image[idx]\n",
        "    if self.transform:\n",
        "      im = self.transform(im)\n",
        "    label = self.labels[idx]\n",
        "    return (im, label)"
      ],
      "metadata": {
        "id": "aZxSU7ULTMfD"
      },
      "execution_count": null,
      "outputs": []
    },
    {
      "cell_type": "code",
      "source": [
        "#plot the dataset from training dataset\n",
        "dataset2 = MyDataset2(transform=toTensor)\n",
        "plt.imshow(dataset2[4][0].permute((1,2,0)))\n",
        "plt.title(dataset2[4][1])"
      ],
      "metadata": {
        "colab": {
          "base_uri": "https://localhost:8080/"
        },
        "id": "m_bpgyrsS1lb",
        "outputId": "caed8e75-b92f-4566-da92-acc2d1b71f6f"
      },
      "execution_count": null,
      "outputs": [
        {
          "output_type": "execute_result",
          "data": {
            "text/plain": [
              "Text(0.5, 1.0, '3')"
            ]
          },
          "metadata": {},
          "execution_count": 128
        },
        {
          "output_type": "display_data",
          "data": {
            "text/plain": [
              "<Figure size 640x480 with 1 Axes>"
            ],
            "image/png": "[encoded data removed]"
          },
          "metadata": {}
        }
      ]
    },
    {
      "cell_type": "code",
      "source": [
        "#create and save the testing labels on csv file\n",
        "import pandas as pd\n",
        "df = pd.DataFrame(labels, columns=['Model_Labels'])\n",
        "df"
      ],
      "metadata": {
        "colab": {
          "base_uri": "https://localhost:8080/"
        },
        "id": "7lJMClnnTocg",
        "outputId": "913fd7b7-89ac-4e77-a192-1837a9e5a6b9"
      },
      "execution_count": null,
      "outputs": [
        {
          "output_type": "execute_result",
          "data": {
            "text/plain": [
              "   Model_Labels\n",
              "0             5\n",
              "1             9\n",
              "2             2\n",
              "3             2\n",
              "4             7\n",
              "5             4\n",
              "6             9\n",
              "7             0\n",
              "8             4\n",
              "9             9"
            ],
            "text/html": [
              "\n",
              "  <div id=\"df-4fd8af1d-2c3a-4ea9-a15f-91aa69a89ae9\">\n",
              "    <div class=\"colab-df-container\">\n",
              "      <div>\n",
              "<style scoped>\n",
              "    .dataframe tbody tr th:only-of-type {\n",
              "        vertical-align: middle;\n",
              "    }\n",
              "\n",
              "    .dataframe tbody tr th {\n",
              "        vertical-align: top;\n",
              "    }\n",
              "\n",
              "    .dataframe thead th {\n",
              "        text-align: right;\n",
              "    }\n",
              "</style>\n",
              "<table border=\"1\" class=\"dataframe\">\n",
              "  <thead>\n",
              "    <tr style=\"text-align: right;\">\n",
              "      <th></th>\n",
              "      <th>Model_Labels</th>\n",
              "    </tr>\n",
              "  </thead>\n",
              "  <tbody>\n",
              "    <tr>\n",
              "      <th>0</th>\n",
              "      <td>5</td>\n",
              "    </tr>\n",
              "    <tr>\n",
              "      <th>1</th>\n",
              "      <td>9</td>\n",
              "    </tr>\n",
              "    <tr>\n",
              "      <th>2</th>\n",
              "      <td>2</td>\n",
              "    </tr>\n",
              "    <tr>\n",
              "      <th>3</th>\n",
              "      <td>2</td>\n",
              "    </tr>\n",
              "    <tr>\n",
              "      <th>4</th>\n",
              "      <td>7</td>\n",
              "    </tr>\n",
              "    <tr>\n",
              "      <th>5</th>\n",
              "      <td>4</td>\n",
              "    </tr>\n",
              "    <tr>\n",
              "      <th>6</th>\n",
              "      <td>9</td>\n",
              "    </tr>\n",
              "    <tr>\n",
              "      <th>7</th>\n",
              "      <td>0</td>\n",
              "    </tr>\n",
              "    <tr>\n",
              "      <th>8</th>\n",
              "      <td>4</td>\n",
              "    </tr>\n",
              "    <tr>\n",
              "      <th>9</th>\n",
              "      <td>9</td>\n",
              "    </tr>\n",
              "  </tbody>\n",
              "</table>\n",
              "</div>\n",
              "      <button class=\"colab-df-convert\" onclick=\"convertToInteractive('df-4fd8af1d-2c3a-4ea9-a15f-91aa69a89ae9')\"\n",
              "              title=\"Convert this dataframe to an interactive table.\"\n",
              "              style=\"display:none;\">\n",
              "        \n",
              "  <svg xmlns=\"http://www.w3.org/2000/svg\" height=\"24px\"viewBox=\"0 0 24 24\"\n",
              "       width=\"24px\">\n",
              "    <path d=\"M0 0h24v24H0V0z\" fill=\"none\"/>\n",
              "    <path d=\"M18.56 5.44l.94 2.06.94-2.06 2.06-.94-2.06-.94-.94-2.06-.94 2.06-2.06.94zm-11 1L8.5 8.5l.94-2.06 2.06-.94-2.06-.94L8.5 2.5l-.94 2.06-2.06.94zm10 10l.94 2.06.94-2.06 2.06-.94-2.06-.94-.94-2.06-.94 2.06-2.06.94z\"/><path d=\"M17.41 7.96l-1.37-1.37c-.4-.4-.92-.59-1.43-.59-.52 0-1.04.2-1.43.59L10.3 9.45l-7.72 7.72c-.78.78-.78 2.05 0 2.83L4 21.41c.39.39.9.59 1.41.59.51 0 1.02-.2 1.41-.59l7.78-7.78 2.81-2.81c.8-.78.8-2.07 0-2.86zM5.41 20L4 18.59l7.72-7.72 1.47 1.35L5.41 20z\"/>\n",
              "  </svg>\n",
              "      </button>\n",
              "      \n",
              "  <style>\n",
              "    .colab-df-container {\n",
              "      display:flex;\n",
              "      flex-wrap:wrap;\n",
              "      gap: 12px;\n",
              "    }\n",
              "\n",
              "    .colab-df-convert {\n",
              "      background-color: #E8F0FE;\n",
              "      border: none;\n",
              "      border-radius: 50%;\n",
              "      cursor: pointer;\n",
              "      display: none;\n",
              "      fill: #1967D2;\n",
              "      height: 32px;\n",
              "      padding: 0 0 0 0;\n",
              "      width: 32px;\n",
              "    }\n",
              "\n",
              "    .colab-df-convert:hover {\n",
              "      background-color: #E2EBFA;\n",
              "      box-shadow: 0px 1px 2px rgba(60, 64, 67, 0.3), 0px 1px 3px 1px rgba(60, 64, 67, 0.15);\n",
              "      fill: #174EA6;\n",
              "    }\n",
              "\n",
              "    [theme=dark] .colab-df-convert {\n",
              "      background-color: #3B4455;\n",
              "      fill: #D2E3FC;\n",
              "    }\n",
              "\n",
              "    [theme=dark] .colab-df-convert:hover {\n",
              "      background-color: #434B5C;\n",
              "      box-shadow: 0px 1px 3px 1px rgba(0, 0, 0, 0.15);\n",
              "      filter: drop-shadow(0px 1px 2px rgba(0, 0, 0, 0.3));\n",
              "      fill: #FFFFFF;\n",
              "    }\n",
              "  </style>\n",
              "\n",
              "      <script>\n",
              "        const buttonEl =\n",
              "          document.querySelector('#df-4fd8af1d-2c3a-4ea9-a15f-91aa69a89ae9 button.colab-df-convert');\n",
              "        buttonEl.style.display =\n",
              "          google.colab.kernel.accessAllowed ? 'block' : 'none';\n",
              "\n",
              "        async function convertToInteractive(key) {\n",
              "          const element = document.querySelector('#df-4fd8af1d-2c3a-4ea9-a15f-91aa69a89ae9');\n",
              "          const dataTable =\n",
              "            await google.colab.kernel.invokeFunction('convertToInteractive',\n",
              "                                                     [key], {});\n",
              "          if (!dataTable) return;\n",
              "\n",
              "          const docLinkHtml = 'Like what you see? Visit the ' +\n",
              "            '<a target=\"_blank\" href=https://colab.research.google.com/notebooks/data_table.ipynb>data table notebook</a>'\n",
              "            + ' to learn more about interactive tables.';\n",
              "          element.innerHTML = '';\n",
              "          dataTable['output_type'] = 'display_data';\n",
              "          await google.colab.output.renderOutput(dataTable, element);\n",
              "          const docLink = document.createElement('div');\n",
              "          docLink.innerHTML = docLinkHtml;\n",
              "          element.appendChild(docLink);\n",
              "        }\n",
              "      </script>\n",
              "    </div>\n",
              "  </div>\n",
              "  "
            ]
          },
          "metadata": {},
          "execution_count": 129
        }
      ]
    },
    {
      "cell_type": "code",
      "source": [
        "df.to_csv(\"Submission.csv\")"
      ],
      "metadata": {
        "id": "39TJsLR5aUtt"
      },
      "execution_count": null,
      "outputs": []
    },
    {
      "cell_type": "code",
      "source": [],
      "metadata": {
        "id": "PIwHRV6tYBqz"
      },
      "execution_count": null,
      "outputs": []
    }
  ]
}